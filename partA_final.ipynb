{
 "cells": [
  {
   "cell_type": "code",
   "execution_count": 124,
   "metadata": {},
   "outputs": [],
   "source": [
    "import numpy as np\n",
    "import imutils\n",
    "import cv2 as cv"
   ]
  },
  {
   "cell_type": "code",
   "execution_count": 125,
   "metadata": {},
   "outputs": [],
   "source": [
    "class Stitcher:\n",
    "\tdef __init__(self):\n",
    "\t\tself.isv3 = imutils.is_cv3(or_better = True)\n",
    "\n",
    "\tdef stitch(self, images, ratio = 0.75, reprojThresh = 4.0, showMatches = False,matcher_name=\"FlannBased\"):\n",
    "\t\t(imageB, imageA) = images\n",
    "\t\t#Calculate the keypoints and the respective descriptors\n",
    "\t\t(interestPointsA, featuresA) = self.detectAndDescribe(imageA)\n",
    "\t\t(interestPointsB, featuresB) = self.detectAndDescribe(imageB)\n",
    "\t\t# match features between the two images\n",
    "\t\tM = self.matchInterestPoints(interestPointsA, interestPointsB, featuresA, featuresB, ratio, reprojThresh,matcher_name)\n",
    "\t\tif M is None:\n",
    "\t\t\treturn None\n",
    "\t\t#If enough interest points are present\n",
    "\t\t# apply a perspective warp to stitch the images together\n",
    "\t\t(matches, H, status) = M\n",
    "\t\tstitchedImage = cv.warpPerspective(imageA, H, (imageA.shape[1] + imageB.shape[1], imageB.shape[0]))\n",
    "\t\tstitchedImage[0:imageB.shape[0], 0:imageB.shape[1]] = imageB\n",
    "\t\t# If the user requested the matches to be seen the visualization image is returned\n",
    "\t\tif showMatches:\n",
    "\t\t\tvisualization = self.drawMatches(imageA, imageB, interestPointsA, interestPointsB, matches, status)\n",
    "\t\t\treturn (stitchedImage, visualization)\n",
    "\t\treturn stitchedImage\n",
    "\t\n",
    "\t#This function extracts the keypoints and their respective descriptors using SIFT algorithm\n",
    "\tdef detectAndDescribe(self, image):\n",
    "\t\tgray = cv.cvtColor(image, cv.COLOR_BGR2GRAY)\n",
    "\t\tif self.isv3:\n",
    "\t\t\t\tdescriptor = cv.SIFT_create()\n",
    "\t\t\t\t(kps, features) = descriptor.detectAndCompute(gray, None)\n",
    "\t\telse:\n",
    "\t\t\t\t# detect interestpoints in the image\n",
    "\t\t\t\tdetector = cv.FeatureDetector_create(\"SIFT\")\n",
    "\t\t\t\tkps = detector.detect(gray)\n",
    "\t\t\t\t# extract features from the image\n",
    "\t\t\t\textractor = cv.DescriptorExtractor_create(\"SIFT\")\n",
    "\t\t\t\t(kps, features) = extractor.compute(gray, kps)\n",
    "\t\t# convert the interestpoints from interestPoint objects to NumPy arrays\n",
    "\t\tkps = np.float32([kp.pt for kp in kps])\n",
    "\t\t# return a tuple of interestpoints and features\n",
    "\t\treturn (kps, features)\n",
    "\t\t\n",
    "\t##Function to get the Homography matrix of the two images\n",
    "\tdef matchInterestPoints(self, interestPointsA, interestPointsB, featuresA, featuresB, ratio, reprojThresh,matcher_name):\n",
    "\t\t# compute the raw matches and initialize the list of actual matches\n",
    "\t\tmatcher = cv.DescriptorMatcher_create(matcher_name)\n",
    "\t\trawMatches = matcher.knnMatch(featuresA, featuresB, 2)\n",
    "\t\tmatches = []\n",
    "\t\tfor m in rawMatches:\n",
    "\t\t\t# ensure the distance is within a certain ratio of each other (i.e. Lowe's ratio test)\n",
    "\t\t\tif len(m) == 2 and m[0].distance < m[1].distance * ratio:\n",
    "\t\t\t\tmatches.append((m[0].trainIdx, m[0].queryIdx))\n",
    "\t\t# computing a homography requires at least 4 matches\n",
    "\t\tif len(matches) > 4:\n",
    "\t\t\t# construct the two sets of points\n",
    "\t\t\tptsA = np.float32([interestPointsA[i] for (_, i) in matches])\n",
    "\t\t\tptsB = np.float32([interestPointsB[i] for (i, _) in matches])\n",
    "\t\t\t# compute the homography between the two sets of points\n",
    "\t\t\t(H, status) = cv.findHomography(ptsA, ptsB, cv.RANSAC,\n",
    "\t\t\t\treprojThresh)\n",
    "\t\t\t# return the matches along with the homograpy matrix and status of each matched point\n",
    "\t\t\treturn (matches, H, status)\n",
    "\t\treturn None\n",
    "\n",
    "\tdef drawMatches(self, imageA, imageB, interestPointsA, interestPointsB, matches, status):\n",
    "\t\t# initialize the output visualization image\n",
    "\t\t(hA, wA), (hB, wB) = imageA.shape[:2], imageB.shape[:2]\n",
    "\t\tvisualization = np.zeros((max(hA, hB), wA + wB, 3), dtype = \"uint8\")\n",
    "\t\tvisualization[0:hA, 0:wA], visualization[0:hB, wA:] = imageA, imageB\n",
    "\t\tfor ((trainIdx, queryIdx), s) in zip(matches, status):\n",
    "\t\t\t# only process the match if the interest point was successfully matched\n",
    "\t\t\tif s == 1:\n",
    "\t\t\t\t# draw the match\n",
    "\t\t\t\tptA = (int(interestPointsA[queryIdx][0]), int(interestPointsA[queryIdx][1]))\n",
    "\t\t\t\tptB = (int(interestPointsB[trainIdx][0]) + wA, int(interestPointsB[trainIdx][1]))\n",
    "\t\t\t\tcv.line(visualization, ptA, ptB, (70, 90, 255), 1)\n",
    "\t\treturn visualization"
   ]
  },
  {
   "cell_type": "code",
   "execution_count": 126,
   "metadata": {},
   "outputs": [],
   "source": [
    "\n",
    "def create_img(imagepathA,imagepathB,output_path,widthA,widthB,height):\n",
    "    imageA = cv.imread(imagepathA)\n",
    "    imageB = cv.imread(imagepathB)\n",
    "    imageA = imutils.resize(imageA, widthA,height)\n",
    "    imageB = imutils.resize(imageB, widthB,height)\n",
    "\n",
    "    stitcher = Stitcher()\n",
    "    (stichedImage, visualization) = stitcher.stitch([imageA, imageB], showMatches = True)\n",
    "    cv.imwrite(\"InterestPoints2.jpg\", visualization)\n",
    "    cv.imwrite(output_path, stichedImage)"
   ]
  },
  {
   "cell_type": "code",
   "execution_count": 127,
   "metadata": {},
   "outputs": [],
   "source": [
    "imagepathA = \"../Dataset/Part-A/VS2.jpeg\"\n",
    "imagepathB = \"../Dataset/Part-A/VS3.jpeg\"\n",
    "output_path = \"VidhanSoudha23Stitched.jpg\"\n",
    "create_img(imagepathA,imagepathB,output_path,900,900,600)\n",
    "\n"
   ]
  },
  {
   "cell_type": "code",
   "execution_count": 128,
   "metadata": {},
   "outputs": [],
   "source": [
    "imagepathA = \"../Dataset/Part-A/VS1.jpeg\"\n",
    "imagepathB = \"VidhanSoudha23Stitched.jpg\"\n",
    "output_path = \"VidhanSoudha123Stitched.jpg\"\n",
    "create_img(imagepathA,imagepathB,output_path,900,1600,600)\n"
   ]
  },
  {
   "cell_type": "code",
   "execution_count": 129,
   "metadata": {},
   "outputs": [],
   "source": [
    "imagepathA = \"../Dataset/Part-A/CB_2.jpeg\"\n",
    "imagepathB = \"../Dataset/Part-A/CB_1.jpeg\"\n",
    "output_path = \"Cubbon_park_stitched.jpg\"\n",
    "\n",
    "create_img(imagepathA,imagepathB,output_path,600,600,900)"
   ]
  },
  {
   "cell_type": "code",
   "execution_count": 130,
   "metadata": {},
   "outputs": [],
   "source": [
    "imagepathA = \"../Dataset/Part-A/BRL.jpeg\"\n",
    "imagepathB = \"../Dataset/Part-A/BRR.jpeg\"\n",
    "output_path = \"Brigade_Road_stitched.jpg\"\n",
    "\n",
    "create_img(imagepathA,imagepathB,output_path,800,800,800)"
   ]
  }
 ],
 "metadata": {
  "kernelspec": {
   "display_name": "Python 3",
   "language": "python",
   "name": "python3"
  },
  "language_info": {
   "codemirror_mode": {
    "name": "ipython",
    "version": 3
   },
   "file_extension": ".py",
   "mimetype": "text/x-python",
   "name": "python",
   "nbconvert_exporter": "python",
   "pygments_lexer": "ipython3",
   "version": "3.10.12"
  }
 },
 "nbformat": 4,
 "nbformat_minor": 2
}
